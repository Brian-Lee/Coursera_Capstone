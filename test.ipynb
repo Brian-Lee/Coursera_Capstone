{
    "nbformat_minor": 1, 
    "cells": [
        {
            "source": "## Coursera - IBM Data Science Capstone Project ##", 
            "cell_type": "markdown", 
            "metadata": {
                "collapsed": true
            }
        }, 
        {
            "source": "### Brian Lee ###\nBrianTrewLee@gmail.com\n\n", 
            "cell_type": "markdown", 
            "metadata": {}
        }, 
        {
            "source": "LinkedIn: https://www.linkedin.com/in/brian-lee-64a2022b/", 
            "cell_type": "markdown", 
            "metadata": {}
        }, 
        {
            "source": "## 1. Introduction ##", 
            "cell_type": "markdown", 
            "metadata": {}
        }, 
        {
            "source": "Where in the world can you find a StarBuck's? Well... everywhere... almost. Is there a science to locating a StarBuck's? Can we create a model to predict where a StarBuck's is likely to be located?", 
            "cell_type": "markdown", 
            "metadata": {}
        }, 
        {
            "execution_count": 1, 
            "cell_type": "code", 
            "metadata": {}, 
            "outputs": [
                {
                    "output_type": "stream", 
                    "name": "stdout", 
                    "text": "Solving environment: done\n\n## Package Plan ##\n\n  environment location: /opt/conda/envs/DSX-Python35\n\n  added / updated specs: \n    - folium=0.5.0\n\n\nThe following packages will be downloaded:\n\n    package                    |            build\n    ---------------------------|-----------------\n    altair-2.2.2               |           py35_1         462 KB  conda-forge\n    branca-0.3.1               |             py_0          25 KB  conda-forge\n    folium-0.5.0               |             py_0          45 KB  conda-forge\n    openssl-1.0.2r             |       h14c3975_0         3.1 MB  conda-forge\n    certifi-2018.8.24          |        py35_1001         139 KB  conda-forge\n    ca-certificates-2019.3.9   |       hecc5488_0         146 KB  conda-forge\n    vincent-0.4.4              |             py_1          28 KB  conda-forge\n    ------------------------------------------------------------\n                                           Total:         4.0 MB\n\nThe following NEW packages will be INSTALLED:\n\n    altair:          2.2.2-py35_1      conda-forge\n    branca:          0.3.1-py_0        conda-forge\n    folium:          0.5.0-py_0        conda-forge\n    vincent:         0.4.4-py_1        conda-forge\n\nThe following packages will be UPDATED:\n\n    ca-certificates: 2019.1.23-0                   --> 2019.3.9-hecc5488_0 conda-forge\n    certifi:         2018.8.24-py35_1              --> 2018.8.24-py35_1001 conda-forge\n\nThe following packages will be DOWNGRADED:\n\n    openssl:         1.0.2s-h7b6447c_0             --> 1.0.2r-h14c3975_0   conda-forge\n\n\nDownloading and Extracting Packages\naltair-2.2.2         | 462 KB    | ##################################### | 100% \nbranca-0.3.1         | 25 KB     | ##################################### | 100% \nfolium-0.5.0         | 45 KB     | ##################################### | 100% \nopenssl-1.0.2r       | 3.1 MB    | ##################################### | 100% \ncertifi-2018.8.24    | 139 KB    | ##################################### | 100% \nca-certificates-2019 | 146 KB    | ##################################### | 100% \nvincent-0.4.4        | 28 KB     | ##################################### | 100% \nPreparing transaction: done\nVerifying transaction: done\nExecuting transaction: done\nLibraries imported!\n"
                }
            ], 
            "source": "# import libraries\n\nimport urllib.request # open and read URLs\n\nimport json # handle JSON files\nfrom pandas.io.json import json_normalize # tranform JSON file into a pandas dataframe\n\nimport requests # handle requests\nimport pandas as pd # process data as dataframes with Pandas\nimport numpy as np # handle data in a vectorized manner with NumPy\n\n# !conda install -c conda-forge geopy --yes # uncomment this line if you haven't installed the GeoPy geocoding library yet\nfrom geopy.geocoders import Nominatim # convert an address into latitude and longitude values\n\n!conda install -c conda-forge folium=0.5.0 --yes # uncomment this line if you haven't installed the Folium library yet\nimport folium # map rendering library\n\n# Matplolib plotting library and associated modules\nimport matplotlib.pyplot as plt \nimport matplotlib.cm as cm\nimport matplotlib.colors as colors\n\nfrom sklearn.cluster import KMeans # for K-Means clustering with Scikit-Learn\n\nprint(\"Libraries imported!\")"
        }, 
        {
            "execution_count": 2, 
            "cell_type": "code", 
            "metadata": {}, 
            "outputs": [], 
            "source": "# The code was removed by Watson Studio for sharing."
        }, 
        {
            "execution_count": 30, 
            "cell_type": "code", 
            "metadata": {}, 
            "outputs": [], 
            "source": "# Define a function to gather recommended venues, with specifically the name and category, using the explore API\n\ndef getNearbyVenues(latitudes, longitudes, radius=100, limit=100):\n#def getNearbyVenues(latitudes, longitudes, radius=300, limit=100):\n#def getNearbyVenues(latitudes, longitudes, radius=750, limit=100):\n#def getNearbyVenues(latitudes, longitudes, radius=2000, limit=100):\n    \n    count = 0\n    venues_list = []\n    for lat, lng in zip(latitudes, longitudes):\n        print(lat,'-',lng)\n         \n        #create a unique namefor this pointthat is easier todeal with than a combination of lat and lon\n        point_name = \"point\"+count\n            \n        # create the API request URL\n        url = \"https://api.foursquare.com/v2/venues/explore?&client_id={}&client_secret={}&v={}&ll={},{}&radius={}&limit={}\".format(\n            CLIENT_ID, \n            CLIENT_SECRET, \n            VERSION, \n            lat, \n            lng, \n            radius, \n            limit)\n            \n        # make the GET request\n        results = requests.get(url).json()[\"response\"][\"groups\"][0][\"items\"]\n        #print(\"resultscols=\",results.columns)\n        \n        # return only relevant information for each nearby venue\n        venues_list.append([(\n            point_name,\n            lat, \n            lng, \n            v[\"venue\"][\"name\"], \n            v[\"venue\"][\"location\"][\"lat\"], \n            v[\"venue\"][\"location\"][\"lng\"],  \n            v[\"venue\"][\"location\"][\"distance\"], \n            v[\"venue\"][\"categories\"][0][\"name\"]) for v in results])\n        count = count + 1\n    nearby_venues = pd.DataFrame([item for venue_list in venues_list for item in venue_list])\n    nearby_venues.columns = [\"Point Name\",\n                  \"Neighborhood Latitude\", \n                  \"Neighborhood Longitude\", \n                  \"Venue\", \n                  \"Venue Latitude\", \n                  \"Venue Longitude\", \n                  \"Venue Distance\",           \n                  \"Venue Category\"]\n    \n    return(nearby_venues)"
        }, 
        {
            "execution_count": 31, 
            "cell_type": "code", 
            "metadata": {}, 
            "outputs": [
                {
                    "execution_count": 31, 
                    "metadata": {}, 
                    "data": {
                        "text/html": "<div>\n<style scoped>\n    .dataframe tbody tr th:only-of-type {\n        vertical-align: middle;\n    }\n\n    .dataframe tbody tr th {\n        vertical-align: top;\n    }\n\n    .dataframe thead th {\n        text-align: right;\n    }\n</style>\n<table border=\"1\" class=\"dataframe\">\n  <thead>\n    <tr style=\"text-align: right;\">\n      <th></th>\n      <th>Latitude</th>\n      <th>Longitude</th>\n    </tr>\n  </thead>\n  <tbody>\n    <tr>\n      <th>0</th>\n      <td>37.774900</td>\n      <td>-122.419400</td>\n    </tr>\n    <tr>\n      <th>1</th>\n      <td>41.878100</td>\n      <td>-87.629800</td>\n    </tr>\n    <tr>\n      <th>2</th>\n      <td>34.052200</td>\n      <td>-118.243700</td>\n    </tr>\n    <tr>\n      <th>3</th>\n      <td>37.744644</td>\n      <td>-122.452731</td>\n    </tr>\n  </tbody>\n</table>\n</div>", 
                        "text/plain": "    Latitude   Longitude\n0  37.774900 -122.419400\n1  41.878100  -87.629800\n2  34.052200 -118.243700\n3  37.744644 -122.452731"
                    }, 
                    "output_type": "execute_result"
                }
            ], 
            "source": "sf_lat=37.7749\nsf_lon=-122.4194\nch_lat=41.8781\nch_lon=-87.6298\nla_lat=34.0522\nla_lon=-118.2437\nstarbucks_m_lat=37.744644\nstarbucks_m_lon=-122.452731\n\n##d = {'col1': [1, 2], 'col2': [3, 4]}\n##>>> data = pd.DataFrame(data=d)\n\ndata = pd.DataFrame(np.array([[sf_lat, sf_lon], [ch_lat, ch_lon], [la_lat, la_lon], [starbucks_m_lat,starbucks_m_lon]]), columns=['Latitude', 'Longitude'])\n\ndata"
        }, 
        {
            "execution_count": 32, 
            "cell_type": "code", 
            "metadata": {}, 
            "outputs": [
                {
                    "output_type": "stream", 
                    "name": "stdout", 
                    "text": "37.7749 - -122.4194\n"
                }, 
                {
                    "ename": "TypeError", 
                    "evalue": "Can't convert 'int' object to str implicitly", 
                    "traceback": [
                        "\u001b[0;31m---------------------------------------------------------------------------\u001b[0m", 
                        "\u001b[0;31mTypeError\u001b[0m                                 Traceback (most recent call last)", 
                        "\u001b[0;32m<ipython-input-32-ce16f3befcbb>\u001b[0m in \u001b[0;36m<module>\u001b[0;34m()\u001b[0m\n\u001b[1;32m      1\u001b[0m venues = getNearbyVenues(latitudes = data[\"Latitude\"],\n\u001b[0;32m----> 2\u001b[0;31m                                \u001b[0mlongitudes\u001b[0m \u001b[0;34m=\u001b[0m \u001b[0mdata\u001b[0m\u001b[0;34m[\u001b[0m\u001b[0;34m\"Longitude\"\u001b[0m\u001b[0;34m]\u001b[0m\u001b[0;34m\u001b[0m\u001b[0m\n\u001b[0m\u001b[1;32m      3\u001b[0m                                )\n\u001b[1;32m      4\u001b[0m \u001b[0mvenues\u001b[0m\u001b[0;34m\u001b[0m\u001b[0m\n", 
                        "\u001b[0;32m<ipython-input-30-3da84d88846a>\u001b[0m in \u001b[0;36mgetNearbyVenues\u001b[0;34m(latitudes, longitudes, radius, limit)\u001b[0m\n\u001b[1;32m     12\u001b[0m \u001b[0;34m\u001b[0m\u001b[0m\n\u001b[1;32m     13\u001b[0m         \u001b[0;31m#create a unique namefor this pointthat is easier todeal with than a combination of lat and lon\u001b[0m\u001b[0;34m\u001b[0m\u001b[0;34m\u001b[0m\u001b[0m\n\u001b[0;32m---> 14\u001b[0;31m         \u001b[0mpoint_name\u001b[0m \u001b[0;34m=\u001b[0m \u001b[0;34m\"point\"\u001b[0m\u001b[0;34m+\u001b[0m\u001b[0mcount\u001b[0m\u001b[0;34m\u001b[0m\u001b[0m\n\u001b[0m\u001b[1;32m     15\u001b[0m \u001b[0;34m\u001b[0m\u001b[0m\n\u001b[1;32m     16\u001b[0m         \u001b[0;31m# create the API request URL\u001b[0m\u001b[0;34m\u001b[0m\u001b[0;34m\u001b[0m\u001b[0m\n", 
                        "\u001b[0;31mTypeError\u001b[0m: Can't convert 'int' object to str implicitly"
                    ], 
                    "output_type": "error"
                }
            ], 
            "source": "venues = getNearbyVenues(latitudes = data[\"Latitude\"],\n                               longitudes = data[\"Longitude\"]\n                               )\nvenues"
        }
    ], 
    "metadata": {
        "kernelspec": {
            "display_name": "Python 3.5", 
            "name": "python3", 
            "language": "python"
        }, 
        "language_info": {
            "mimetype": "text/x-python", 
            "nbconvert_exporter": "python", 
            "version": "3.5.5", 
            "name": "python", 
            "file_extension": ".py", 
            "pygments_lexer": "ipython3", 
            "codemirror_mode": {
                "version": 3, 
                "name": "ipython"
            }
        }
    }, 
    "nbformat": 4
}