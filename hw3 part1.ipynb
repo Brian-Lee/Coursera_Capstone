{
    "nbformat_minor": 1, 
    "cells": [
        {
            "source": "\n## Brian's Week 3 Homework for Coursera Capstone part 1 ##", 
            "cell_type": "markdown", 
            "metadata": {
                "collapsed": true
            }
        }, 
        {
            "source": "scrape the Wikipedia page", 
            "cell_type": "markdown", 
            "metadata": {}
        }, 
        {
            "execution_count": 1, 
            "cell_type": "code", 
            "metadata": {}, 
            "outputs": [
                {
                    "output_type": "stream", 
                    "name": "stdout", 
                    "text": "1 Postcode\n2 Borough\n3 Neighbourhood\n\n"
                }
            ], 
            "source": "#scrape table on wikipedia page\nimport requests\nimport lxml.html as lh\nimport pandas as pd\n\nurl='https://en.wikipedia.org/wiki/List_of_postal_codes_of_Canada:_M'\npage = requests.get(url)\ndoc = lh.fromstring(page.content)\ntr_elements = doc.xpath('//tr')\n[len(T) for T in tr_elements[:12]]\n\ntr_elements = doc.xpath('//tr')\n#Create empty list\ncol=[]\ni=0\n#For each row, store each first element (header) and an empty list\nfor t in tr_elements[0]:\n    i+=1\n    name=t.text_content()\n    print (i,name)\n    col.append((name,[]))"
        }, 
        {
            "execution_count": 2, 
            "cell_type": "code", 
            "metadata": {}, 
            "outputs": [
                {
                    "execution_count": 2, 
                    "metadata": {}, 
                    "data": {
                        "text/plain": "294"
                    }, 
                    "output_type": "execute_result"
                }
            ], 
            "source": "len(tr_elements)"
        }, 
        {
            "execution_count": 3, 
            "cell_type": "code", 
            "metadata": {}, 
            "outputs": [
                {
                    "output_type": "stream", 
                    "name": "stdout", 
                    "text": "done parsing table\n"
                }
            ], 
            "source": "\n#print('parsing start')\n#Since out first row is the header, data is stored on the second row onwards\nfor j in range(1,len(tr_elements)):\n   # print('parsing', j)\n    #T is our j'th row\n    T=tr_elements[j]\n    \n    #If row is not of size 10, the //tr data is not from our table \n    if len(T)!=3:\n        break\n    \n    #i is the index of our column\n    i=0\n    \n    #Iterate through each element of the row\n    for t in T.iterchildren():\n        data=t.text_content() \n        data\n        #Check if row is empty\n        if i>0:\n        #Convert any numerical value to integers\n            try:\n                data=int(data)\n            except:\n                pass\n        #Append the data to the empty list of the i'th column\n        col[i][1].append(data)\n        #Increment i for the next column\n        i+=1\nprint('done parsing table')        "
        }, 
        {
            "execution_count": 4, 
            "cell_type": "code", 
            "metadata": {}, 
            "outputs": [
                {
                    "execution_count": 4, 
                    "metadata": {}, 
                    "data": {
                        "text/plain": "[288, 288, 288]"
                    }, 
                    "output_type": "execute_result"
                }
            ], 
            "source": "[len(C) for (title,C) in col]"
        }, 
        {
            "execution_count": 5, 
            "cell_type": "code", 
            "metadata": {}, 
            "outputs": [], 
            "source": "Dict={title:column for (title,column) in col}\ndf=pd.DataFrame(Dict)"
        }, 
        {
            "execution_count": 6, 
            "cell_type": "code", 
            "metadata": {}, 
            "outputs": [
                {
                    "execution_count": 6, 
                    "metadata": {}, 
                    "data": {
                        "text/html": "<div>\n<style scoped>\n    .dataframe tbody tr th:only-of-type {\n        vertical-align: middle;\n    }\n\n    .dataframe tbody tr th {\n        vertical-align: top;\n    }\n\n    .dataframe thead th {\n        text-align: right;\n    }\n</style>\n<table border=\"1\" class=\"dataframe\">\n  <thead>\n    <tr style=\"text-align: right;\">\n      <th></th>\n      <th>Borough</th>\n      <th>Neighbourhood</th>\n      <th>Postcode</th>\n    </tr>\n  </thead>\n  <tbody>\n    <tr>\n      <th>0</th>\n      <td>Not assigned</td>\n      <td>Not assigned\\n</td>\n      <td>M1A</td>\n    </tr>\n    <tr>\n      <th>1</th>\n      <td>Not assigned</td>\n      <td>Not assigned\\n</td>\n      <td>M2A</td>\n    </tr>\n    <tr>\n      <th>2</th>\n      <td>North York</td>\n      <td>Parkwoods\\n</td>\n      <td>M3A</td>\n    </tr>\n    <tr>\n      <th>3</th>\n      <td>North York</td>\n      <td>Victoria Village\\n</td>\n      <td>M4A</td>\n    </tr>\n    <tr>\n      <th>4</th>\n      <td>Downtown Toronto</td>\n      <td>Harbourfront\\n</td>\n      <td>M5A</td>\n    </tr>\n  </tbody>\n</table>\n</div>", 
                        "text/plain": "            Borough     Neighbourhood\\n Postcode\n0      Not assigned      Not assigned\\n      M1A\n1      Not assigned      Not assigned\\n      M2A\n2        North York         Parkwoods\\n      M3A\n3        North York  Victoria Village\\n      M4A\n4  Downtown Toronto      Harbourfront\\n      M5A"
                    }, 
                    "output_type": "execute_result"
                }
            ], 
            "source": "df.head()"
        }, 
        {
            "source": "Looks like we have the columns in the wrong order, so let's fix that now", 
            "cell_type": "markdown", 
            "metadata": {}
        }, 
        {
            "execution_count": 7, 
            "cell_type": "code", 
            "metadata": {}, 
            "outputs": [
                {
                    "execution_count": 7, 
                    "metadata": {}, 
                    "data": {
                        "text/html": "<div>\n<style scoped>\n    .dataframe tbody tr th:only-of-type {\n        vertical-align: middle;\n    }\n\n    .dataframe tbody tr th {\n        vertical-align: top;\n    }\n\n    .dataframe thead th {\n        text-align: right;\n    }\n</style>\n<table border=\"1\" class=\"dataframe\">\n  <thead>\n    <tr style=\"text-align: right;\">\n      <th></th>\n      <th>Postcode</th>\n      <th>Borough</th>\n      <th>Neighbourhood</th>\n    </tr>\n  </thead>\n  <tbody>\n    <tr>\n      <th>0</th>\n      <td>M1A</td>\n      <td>Not assigned</td>\n      <td>Not assigned\\n</td>\n    </tr>\n    <tr>\n      <th>1</th>\n      <td>M2A</td>\n      <td>Not assigned</td>\n      <td>Not assigned\\n</td>\n    </tr>\n    <tr>\n      <th>2</th>\n      <td>M3A</td>\n      <td>North York</td>\n      <td>Parkwoods\\n</td>\n    </tr>\n    <tr>\n      <th>3</th>\n      <td>M4A</td>\n      <td>North York</td>\n      <td>Victoria Village\\n</td>\n    </tr>\n    <tr>\n      <th>4</th>\n      <td>M5A</td>\n      <td>Downtown Toronto</td>\n      <td>Harbourfront\\n</td>\n    </tr>\n  </tbody>\n</table>\n</div>", 
                        "text/plain": "  Postcode           Borough     Neighbourhood\\n\n0      M1A      Not assigned      Not assigned\\n\n1      M2A      Not assigned      Not assigned\\n\n2      M3A        North York         Parkwoods\\n\n3      M4A        North York  Victoria Village\\n\n4      M5A  Downtown Toronto      Harbourfront\\n"
                    }, 
                    "output_type": "execute_result"
                }
            ], 
            "source": "#looks like we have the columns in the wrong order, so fix that\n\ndf = df[['Postcode', 'Borough', 'Neighbourhood\\n']]#notice the \\n in the third column - that took me a while to figure out\ndf.head()"
        }, 
        {
            "source": "rename the columns to match the correct project name requirements", 
            "cell_type": "markdown", 
            "metadata": {}
        }, 
        {
            "execution_count": 8, 
            "cell_type": "code", 
            "metadata": {}, 
            "outputs": [
                {
                    "execution_count": 8, 
                    "metadata": {}, 
                    "data": {
                        "text/html": "<div>\n<style scoped>\n    .dataframe tbody tr th:only-of-type {\n        vertical-align: middle;\n    }\n\n    .dataframe tbody tr th {\n        vertical-align: top;\n    }\n\n    .dataframe thead th {\n        text-align: right;\n    }\n</style>\n<table border=\"1\" class=\"dataframe\">\n  <thead>\n    <tr style=\"text-align: right;\">\n      <th></th>\n      <th>PostalCode</th>\n      <th>Borough</th>\n      <th>Neighborhood</th>\n    </tr>\n  </thead>\n  <tbody>\n    <tr>\n      <th>0</th>\n      <td>M1A</td>\n      <td>Not assigned</td>\n      <td>Not assigned\\n</td>\n    </tr>\n    <tr>\n      <th>1</th>\n      <td>M2A</td>\n      <td>Not assigned</td>\n      <td>Not assigned\\n</td>\n    </tr>\n    <tr>\n      <th>2</th>\n      <td>M3A</td>\n      <td>North York</td>\n      <td>Parkwoods\\n</td>\n    </tr>\n    <tr>\n      <th>3</th>\n      <td>M4A</td>\n      <td>North York</td>\n      <td>Victoria Village\\n</td>\n    </tr>\n    <tr>\n      <th>4</th>\n      <td>M5A</td>\n      <td>Downtown Toronto</td>\n      <td>Harbourfront\\n</td>\n    </tr>\n  </tbody>\n</table>\n</div>", 
                        "text/plain": "  PostalCode           Borough        Neighborhood\n0        M1A      Not assigned      Not assigned\\n\n1        M2A      Not assigned      Not assigned\\n\n2        M3A        North York         Parkwoods\\n\n3        M4A        North York  Victoria Village\\n\n4        M5A  Downtown Toronto      Harbourfront\\n"
                    }, 
                    "output_type": "execute_result"
                }
            ], 
            "source": "#rename columns to the project requirements\ndf.rename({'Neighbourhood\\n': 'Neighborhood'}, axis='columns', inplace=True)\ndf.rename({'Postcode': 'PostalCode'}, axis='columns', inplace=True)\ndf.head()"
        }, 
        {
            "source": "Clean up the dataframe", 
            "cell_type": "markdown", 
            "metadata": {}
        }, 
        {
            "execution_count": 9, 
            "cell_type": "code", 
            "metadata": {}, 
            "outputs": [
                {
                    "output_type": "stream", 
                    "name": "stdout", 
                    "text": "['Not assigned' 'Parkwoods' 'Victoria Village' 'Harbourfront' 'Regent Park'\n 'Lawrence Heights' 'Lawrence Manor' 'Islington Avenue' 'Rouge' 'Malvern'\n 'Don Mills North' 'Woodbine Gardens' 'Parkview Hill' 'Ryerson'\n 'Garden District' 'Glencairn' 'Cloverdale' 'Islington' 'Martin Grove'\n 'Princess Gardens' 'West Deane Park' 'Highland Creek' 'Rouge Hill'\n 'Port Union' 'Flemingdon Park' 'Don Mills South' 'Woodbine Heights'\n 'St. James Town' 'Humewood-Cedarvale' 'Bloordale Gardens' 'Eringate'\n 'Markland Wood' 'Old Burnhamthorpe' 'Guildwood' 'Morningside' 'West Hill'\n 'The Beaches' 'Berczy Park' 'Caledonia-Fairbanks' 'Woburn' 'Leaside'\n 'Central Bay Street' 'Christie' 'Cedarbrae' 'Hillcrest Village'\n 'Bathurst Manor' 'Downsview North' 'Wilson Heights' 'Thorncliffe Park'\n 'Adelaide' 'King' 'Richmond' 'Dovercourt Village' 'Dufferin'\n 'Scarborough Village' 'Fairview' 'Henry Farm' 'Oriole' 'Northwood Park'\n 'York University' 'East Toronto' 'Harbourfront East' 'Toronto Islands'\n 'Union Station' 'Little Portugal' 'Trinity' 'East Birchmount Park'\n 'Ionview' 'Kennedy Park' 'Bayview Village' 'CFB Toronto' 'Downsview East'\n 'The Danforth West' 'Riverdale' 'Design Exchange'\n 'Toronto Dominion Centre' 'Brockton' 'Exhibition Place' 'Parkdale Village'\n 'Clairlea' 'Golden Mile' 'Oakridge' 'Silver Hills' 'York Mills'\n 'Downsview West' 'The Beaches West' 'India Bazaar' 'Commerce Court'\n 'Victoria Hotel' 'Downsview' 'North Park' 'Upwood Park' 'Humber Summit'\n 'Cliffcrest' 'Cliffside' 'Scarborough Village West' 'Newtonbrook'\n 'Willowdale' 'Downsview Central' 'Studio District' 'Bedford Park'\n 'Lawrence Manor East' 'Del Ray' 'Keelesdale' 'Mount Dennis' 'Silverthorn'\n 'Emery' 'Humberlea' 'Birch Cliff' 'Cliffside West' 'Willowdale South'\n 'Downsview Northwest' 'Lawrence Park' 'Roselawn' 'The Junction North'\n 'Runnymede' 'Weston' 'Dorset Park' 'Scarborough Town Centre'\n 'Wexford Heights' 'York Mills West' 'Davisville North' 'Forest Hill North'\n 'Forest Hill West' 'High Park' 'The Junction South' 'Westmount' 'Maryvale'\n 'Wexford' 'Willowdale West' 'North Toronto West' 'The Annex'\n 'North Midtown' 'Yorkville' 'Parkdale' 'Roncesvalles'\n 'Canada Post Gateway Processing Centre' 'Kingsview Village'\n 'Martin Grove Gardens' 'Richview Gardens' 'St. Phillips' 'Agincourt'\n 'Davisville' 'Harbord' 'University of Toronto' 'Swansea' 'Clarks Corners'\n 'Sullivan' \"Tam O'Shanter\" 'Moore Park' 'Summerhill East' 'Chinatown'\n 'Grange Park' 'Kensington Market' 'Agincourt North' \"L'Amoreaux East\"\n 'Milliken' 'Steeles East' 'Deer Park' 'Forest Hill SE' 'Rathnelly'\n 'South Hill' 'Summerhill West' 'CN Tower' 'Bathurst Quay' 'Island airport'\n 'Harbourfront West' 'King and Spadina' 'Railway Lands' 'South Niagara'\n 'Humber Bay Shores' 'Mimico South' 'New Toronto' 'Albion Gardens'\n 'Beaumond Heights' 'Humbergate' 'Jamestown' 'Mount Olive' 'Silverstone'\n 'South Steeles' 'Thistletown' \"L'Amoreaux West\" 'Rosedale'\n 'Stn A PO Boxes 25 The Esplanade' 'Alderwood' 'Long Branch' 'Northwest'\n 'Upper Rouge' 'Cabbagetown' 'First Canadian Place' 'Underground city'\n 'The Kingsway' 'Montgomery Road' 'Old Mill North' 'Church and Wellesley'\n 'Business Reply Mail Processing Centre 969 Eastern' 'Humber Bay'\n \"King's Mill Park\" 'Kingsway Park South East' 'Mimico NE' 'Old Mill South'\n 'The Queensway East' 'Royal York South East' 'Sunnylea'\n 'Kingsway Park South West' 'Mimico NW' 'The Queensway West'\n 'Royal York South West' 'South of Bloor']\n['Not assigned' 'North York' 'Downtown Toronto' \"Queen's Park\" 'Etobicoke'\n 'Scarborough' 'East York' 'York' 'East Toronto' 'West Toronto'\n 'Central Toronto' 'Mississauga']\n['M1A' 'M2A' 'M3A' 'M4A' 'M5A' 'M6A' 'M7A' 'M8A' 'M9A' 'M1B' 'M2B' 'M3B'\n 'M4B' 'M5B' 'M6B' 'M7B' 'M8B' 'M9B' 'M1C' 'M2C' 'M3C' 'M4C' 'M5C' 'M6C'\n 'M7C' 'M8C' 'M9C' 'M1E' 'M2E' 'M3E' 'M4E' 'M5E' 'M6E' 'M7E' 'M8E' 'M9E'\n 'M1G' 'M2G' 'M3G' 'M4G' 'M5G' 'M6G' 'M7G' 'M8G' 'M9G' 'M1H' 'M2H' 'M3H'\n 'M4H' 'M5H' 'M6H' 'M7H' 'M8H' 'M9H' 'M1J' 'M2J' 'M3J' 'M4J' 'M5J' 'M6J'\n 'M7J' 'M8J' 'M9J' 'M1K' 'M2K' 'M3K' 'M4K' 'M5K' 'M6K' 'M7K' 'M8K' 'M9K'\n 'M1L' 'M2L' 'M3L' 'M4L' 'M5L' 'M6L' 'M7L' 'M8L' 'M9L' 'M1M' 'M2M' 'M3M'\n 'M4M' 'M5M' 'M6M' 'M7M' 'M8M' 'M9M' 'M1N' 'M2N' 'M3N' 'M4N' 'M5N' 'M6N'\n 'M7N' 'M8N' 'M9N' 'M1P' 'M2P' 'M3P' 'M4P' 'M5P' 'M6P' 'M7P' 'M8P' 'M9P'\n 'M1R' 'M2R' 'M3R' 'M4R' 'M5R' 'M6R' 'M7R' 'M8R' 'M9R' 'M1S' 'M2S' 'M3S'\n 'M4S' 'M5S' 'M6S' 'M7S' 'M8S' 'M9S' 'M1T' 'M2T' 'M3T' 'M4T' 'M5T' 'M6T'\n 'M7T' 'M8T' 'M9T' 'M1V' 'M2V' 'M3V' 'M4V' 'M5V' 'M6V' 'M7V' 'M8V' 'M9V'\n 'M1W' 'M2W' 'M3W' 'M4W' 'M5W' 'M6W' 'M7W' 'M8W' 'M9W' 'M1X' 'M2X' 'M3X'\n 'M4X' 'M5X' 'M6X' 'M7X' 'M8X' 'M9X' 'M1Y' 'M2Y' 'M3Y' 'M4Y' 'M5Y' 'M6Y'\n 'M7Y' 'M8Y' 'M9Y' 'M1Z' 'M2Z' 'M3Z' 'M4Z' 'M5Z' 'M6Z' 'M7Z' 'M8Z' 'M9Z']\n"
                }
            ], 
            "source": "#clean up df and keep the old one\ndf_unclean=df\ndf.shape\n#take out the newlines in the data\ndf = df.replace('\\n','', regex=True)\n#lets look at the values we have and see that they make sense\nprint(df['Neighborhood'].unique())\nprint(df['Borough'].unique())\nprint(df['PostalCode'].unique())"
        }, 
        {
            "source": "Get rid of rowns where Borough is not assigned", 
            "cell_type": "markdown", 
            "metadata": {}
        }, 
        {
            "execution_count": 10, 
            "cell_type": "code", 
            "metadata": {}, 
            "outputs": [
                {
                    "output_type": "stream", 
                    "name": "stdout", 
                    "text": "(288, 3)\n(211, 3)\n['North York' 'Downtown Toronto' \"Queen's Park\" 'Etobicoke' 'Scarborough'\n 'East York' 'York' 'East Toronto' 'West Toronto' 'Central Toronto'\n 'Mississauga']\n"
                }
            ], 
            "source": "# get rid of rows where the Borough is not assigned\nprint(df.shape)\ndf=df[df['Borough']!='Not assigned']\nprint(df.shape)\nprint(df['Borough'].unique())"
        }, 
        {
            "source": "If a neighborhood is not assigned, change it to match the borough name", 
            "cell_type": "markdown", 
            "metadata": {}
        }, 
        {
            "execution_count": 11, 
            "cell_type": "code", 
            "metadata": {}, 
            "outputs": [
                {
                    "execution_count": 11, 
                    "metadata": {}, 
                    "data": {
                        "text/html": "<div>\n<style scoped>\n    .dataframe tbody tr th:only-of-type {\n        vertical-align: middle;\n    }\n\n    .dataframe tbody tr th {\n        vertical-align: top;\n    }\n\n    .dataframe thead th {\n        text-align: right;\n    }\n</style>\n<table border=\"1\" class=\"dataframe\">\n  <thead>\n    <tr style=\"text-align: right;\">\n      <th></th>\n      <th>PostalCode</th>\n      <th>Borough</th>\n      <th>Neighborhood</th>\n    </tr>\n  </thead>\n  <tbody>\n    <tr>\n      <th>2</th>\n      <td>M3A</td>\n      <td>North York</td>\n      <td>Parkwoods</td>\n    </tr>\n    <tr>\n      <th>3</th>\n      <td>M4A</td>\n      <td>North York</td>\n      <td>Victoria Village</td>\n    </tr>\n    <tr>\n      <th>4</th>\n      <td>M5A</td>\n      <td>Downtown Toronto</td>\n      <td>Harbourfront</td>\n    </tr>\n    <tr>\n      <th>5</th>\n      <td>M5A</td>\n      <td>Downtown Toronto</td>\n      <td>Regent Park</td>\n    </tr>\n    <tr>\n      <th>6</th>\n      <td>M6A</td>\n      <td>North York</td>\n      <td>Lawrence Heights</td>\n    </tr>\n    <tr>\n      <th>7</th>\n      <td>M6A</td>\n      <td>North York</td>\n      <td>Lawrence Manor</td>\n    </tr>\n    <tr>\n      <th>8</th>\n      <td>M7A</td>\n      <td>Queen's Park</td>\n      <td>Queen's Park</td>\n    </tr>\n    <tr>\n      <th>10</th>\n      <td>M9A</td>\n      <td>Etobicoke</td>\n      <td>Islington Avenue</td>\n    </tr>\n    <tr>\n      <th>11</th>\n      <td>M1B</td>\n      <td>Scarborough</td>\n      <td>Rouge</td>\n    </tr>\n    <tr>\n      <th>12</th>\n      <td>M1B</td>\n      <td>Scarborough</td>\n      <td>Malvern</td>\n    </tr>\n  </tbody>\n</table>\n</div>", 
                        "text/plain": "   PostalCode           Borough      Neighborhood\n2         M3A        North York         Parkwoods\n3         M4A        North York  Victoria Village\n4         M5A  Downtown Toronto      Harbourfront\n5         M5A  Downtown Toronto       Regent Park\n6         M6A        North York  Lawrence Heights\n7         M6A        North York    Lawrence Manor\n8         M7A      Queen's Park      Queen's Park\n10        M9A         Etobicoke  Islington Avenue\n11        M1B       Scarborough             Rouge\n12        M1B       Scarborough           Malvern"
                    }, 
                    "output_type": "execute_result"
                }
            ], 
            "source": "#If a neighborhood is not assigned, change it to be the same as the borough\ndf.Neighborhood.value_counts()['Not assigned'] #how many do we have?\ndf.loc[df.Neighborhood == 'Not assigned', 'Neighborhood'] = df['Borough']\ndf[0:10] #you can see that the Queen's Park neighborhood was assigned"
        }, 
        {
            "execution_count": 12, 
            "cell_type": "code", 
            "metadata": {}, 
            "outputs": [
                {
                    "execution_count": 12, 
                    "metadata": {}, 
                    "data": {
                        "text/plain": "103"
                    }, 
                    "output_type": "execute_result"
                }
            ], 
            "source": "all_postalcodes = df.PostalCode.unique()\nlen(all_postalcodes)"
        }, 
        {
            "source": "combine multiple rows for a postalcode - combine the neighborhoods into commas separated lists", 
            "cell_type": "markdown", 
            "metadata": {}
        }, 
        {
            "execution_count": 13, 
            "cell_type": "code", 
            "metadata": {}, 
            "outputs": [], 
            "source": "for postalcode in all_postalcodes:\n    #print('\\n\\npostalcode=', postalcode, '\\n')\n    neighborhoods_to_combine = df[df['PostalCode']==postalcode].Neighborhood.unique()\n    number_of_neighborhoods_to_combine = neighborhoods_to_combine.size\n    neighborhoods_to_combine_csv_str = ', '.join(map(str, neighborhoods_to_combine))\n                                      \n    #print(number_of_neighborhoods_to_combine, ' - ', neighborhoods_to_combine_csv_str)\n    #rows = df[df['PostalCode']==postalcode]\n    #rows.Neighborhood=neighborhoods_to_combine_csv_str\n    df.loc[df.PostalCode == postalcode, 'Neighborhood'] = neighborhoods_to_combine_csv_str\n    \n    #print(rows)\n    #new_df.append(rows)"
        }, 
        {
            "source": "\nCombined the neighborhoods by postalcode, but didn't get rid of duplicate rows generated yet - let's get rid of duplicates now", 
            "cell_type": "markdown", 
            "metadata": {}
        }, 
        {
            "execution_count": 14, 
            "cell_type": "code", 
            "metadata": {}, 
            "outputs": [
                {
                    "output_type": "stream", 
                    "name": "stdout", 
                    "text": "(211, 3)\n(103, 3)\n"
                }, 
                {
                    "execution_count": 14, 
                    "metadata": {}, 
                    "data": {
                        "text/html": "<div>\n<style scoped>\n    .dataframe tbody tr th:only-of-type {\n        vertical-align: middle;\n    }\n\n    .dataframe tbody tr th {\n        vertical-align: top;\n    }\n\n    .dataframe thead th {\n        text-align: right;\n    }\n</style>\n<table border=\"1\" class=\"dataframe\">\n  <thead>\n    <tr style=\"text-align: right;\">\n      <th></th>\n      <th>PostalCode</th>\n      <th>Borough</th>\n      <th>Neighborhood</th>\n    </tr>\n  </thead>\n  <tbody>\n    <tr>\n      <th>2</th>\n      <td>M3A</td>\n      <td>North York</td>\n      <td>Parkwoods</td>\n    </tr>\n    <tr>\n      <th>3</th>\n      <td>M4A</td>\n      <td>North York</td>\n      <td>Victoria Village</td>\n    </tr>\n    <tr>\n      <th>4</th>\n      <td>M5A</td>\n      <td>Downtown Toronto</td>\n      <td>Harbourfront, Regent Park</td>\n    </tr>\n    <tr>\n      <th>6</th>\n      <td>M6A</td>\n      <td>North York</td>\n      <td>Lawrence Heights, Lawrence Manor</td>\n    </tr>\n    <tr>\n      <th>8</th>\n      <td>M7A</td>\n      <td>Queen's Park</td>\n      <td>Queen's Park</td>\n    </tr>\n    <tr>\n      <th>10</th>\n      <td>M9A</td>\n      <td>Etobicoke</td>\n      <td>Islington Avenue</td>\n    </tr>\n    <tr>\n      <th>11</th>\n      <td>M1B</td>\n      <td>Scarborough</td>\n      <td>Rouge, Malvern</td>\n    </tr>\n    <tr>\n      <th>14</th>\n      <td>M3B</td>\n      <td>North York</td>\n      <td>Don Mills North</td>\n    </tr>\n    <tr>\n      <th>15</th>\n      <td>M4B</td>\n      <td>East York</td>\n      <td>Woodbine Gardens, Parkview Hill</td>\n    </tr>\n    <tr>\n      <th>17</th>\n      <td>M5B</td>\n      <td>Downtown Toronto</td>\n      <td>Ryerson, Garden District</td>\n    </tr>\n    <tr>\n      <th>19</th>\n      <td>M6B</td>\n      <td>North York</td>\n      <td>Glencairn</td>\n    </tr>\n    <tr>\n      <th>22</th>\n      <td>M9B</td>\n      <td>Etobicoke</td>\n      <td>Cloverdale, Islington, Martin Grove, Princess ...</td>\n    </tr>\n    <tr>\n      <th>27</th>\n      <td>M1C</td>\n      <td>Scarborough</td>\n      <td>Highland Creek, Rouge Hill, Port Union</td>\n    </tr>\n    <tr>\n      <th>31</th>\n      <td>M3C</td>\n      <td>North York</td>\n      <td>Flemingdon Park, Don Mills South</td>\n    </tr>\n    <tr>\n      <th>33</th>\n      <td>M4C</td>\n      <td>East York</td>\n      <td>Woodbine Heights</td>\n    </tr>\n    <tr>\n      <th>34</th>\n      <td>M5C</td>\n      <td>Downtown Toronto</td>\n      <td>St. James Town</td>\n    </tr>\n    <tr>\n      <th>35</th>\n      <td>M6C</td>\n      <td>York</td>\n      <td>Humewood-Cedarvale</td>\n    </tr>\n    <tr>\n      <th>38</th>\n      <td>M9C</td>\n      <td>Etobicoke</td>\n      <td>Bloordale Gardens, Eringate, Markland Wood, Ol...</td>\n    </tr>\n    <tr>\n      <th>42</th>\n      <td>M1E</td>\n      <td>Scarborough</td>\n      <td>Guildwood, Morningside, West Hill</td>\n    </tr>\n    <tr>\n      <th>47</th>\n      <td>M4E</td>\n      <td>East Toronto</td>\n      <td>The Beaches</td>\n    </tr>\n    <tr>\n      <th>48</th>\n      <td>M5E</td>\n      <td>Downtown Toronto</td>\n      <td>Berczy Park</td>\n    </tr>\n    <tr>\n      <th>49</th>\n      <td>M6E</td>\n      <td>York</td>\n      <td>Caledonia-Fairbanks</td>\n    </tr>\n    <tr>\n      <th>53</th>\n      <td>M1G</td>\n      <td>Scarborough</td>\n      <td>Woburn</td>\n    </tr>\n    <tr>\n      <th>56</th>\n      <td>M4G</td>\n      <td>East York</td>\n      <td>Leaside</td>\n    </tr>\n    <tr>\n      <th>57</th>\n      <td>M5G</td>\n      <td>Downtown Toronto</td>\n      <td>Central Bay Street</td>\n    </tr>\n    <tr>\n      <th>58</th>\n      <td>M6G</td>\n      <td>Downtown Toronto</td>\n      <td>Christie</td>\n    </tr>\n    <tr>\n      <th>62</th>\n      <td>M1H</td>\n      <td>Scarborough</td>\n      <td>Cedarbrae</td>\n    </tr>\n    <tr>\n      <th>63</th>\n      <td>M2H</td>\n      <td>North York</td>\n      <td>Hillcrest Village</td>\n    </tr>\n    <tr>\n      <th>64</th>\n      <td>M3H</td>\n      <td>North York</td>\n      <td>Bathurst Manor, Downsview North, Wilson Heights</td>\n    </tr>\n    <tr>\n      <th>67</th>\n      <td>M4H</td>\n      <td>East York</td>\n      <td>Thorncliffe Park</td>\n    </tr>\n    <tr>\n      <th>...</th>\n      <td>...</td>\n      <td>...</td>\n      <td>...</td>\n    </tr>\n    <tr>\n      <th>168</th>\n      <td>M4R</td>\n      <td>Central Toronto</td>\n      <td>North Toronto West</td>\n    </tr>\n    <tr>\n      <th>169</th>\n      <td>M5R</td>\n      <td>Central Toronto</td>\n      <td>The Annex, North Midtown, Yorkville</td>\n    </tr>\n    <tr>\n      <th>172</th>\n      <td>M6R</td>\n      <td>West Toronto</td>\n      <td>Parkdale, Roncesvalles</td>\n    </tr>\n    <tr>\n      <th>174</th>\n      <td>M7R</td>\n      <td>Mississauga</td>\n      <td>Canada Post Gateway Processing Centre</td>\n    </tr>\n    <tr>\n      <th>176</th>\n      <td>M9R</td>\n      <td>Etobicoke</td>\n      <td>Kingsview Village, Martin Grove Gardens, Richv...</td>\n    </tr>\n    <tr>\n      <th>180</th>\n      <td>M1S</td>\n      <td>Scarborough</td>\n      <td>Agincourt</td>\n    </tr>\n    <tr>\n      <th>183</th>\n      <td>M4S</td>\n      <td>Central Toronto</td>\n      <td>Davisville</td>\n    </tr>\n    <tr>\n      <th>184</th>\n      <td>M5S</td>\n      <td>Downtown Toronto</td>\n      <td>Harbord, University of Toronto</td>\n    </tr>\n    <tr>\n      <th>186</th>\n      <td>M6S</td>\n      <td>West Toronto</td>\n      <td>Runnymede, Swansea</td>\n    </tr>\n    <tr>\n      <th>191</th>\n      <td>M1T</td>\n      <td>Scarborough</td>\n      <td>Clarks Corners, Sullivan, Tam O'Shanter</td>\n    </tr>\n    <tr>\n      <th>196</th>\n      <td>M4T</td>\n      <td>Central Toronto</td>\n      <td>Moore Park, Summerhill East</td>\n    </tr>\n    <tr>\n      <th>198</th>\n      <td>M5T</td>\n      <td>Downtown Toronto</td>\n      <td>Chinatown, Grange Park, Kensington Market</td>\n    </tr>\n    <tr>\n      <th>205</th>\n      <td>M1V</td>\n      <td>Scarborough</td>\n      <td>Agincourt North, L'Amoreaux East, Milliken, St...</td>\n    </tr>\n    <tr>\n      <th>211</th>\n      <td>M4V</td>\n      <td>Central Toronto</td>\n      <td>Deer Park, Forest Hill SE, Rathnelly, South Hi...</td>\n    </tr>\n    <tr>\n      <th>216</th>\n      <td>M5V</td>\n      <td>Downtown Toronto</td>\n      <td>CN Tower, Bathurst Quay, Island airport, Harbo...</td>\n    </tr>\n    <tr>\n      <th>225</th>\n      <td>M8V</td>\n      <td>Etobicoke</td>\n      <td>Humber Bay Shores, Mimico South, New Toronto</td>\n    </tr>\n    <tr>\n      <th>228</th>\n      <td>M9V</td>\n      <td>Etobicoke</td>\n      <td>Albion Gardens, Beaumond Heights, Humbergate, ...</td>\n    </tr>\n    <tr>\n      <th>236</th>\n      <td>M1W</td>\n      <td>Scarborough</td>\n      <td>L'Amoreaux West</td>\n    </tr>\n    <tr>\n      <th>239</th>\n      <td>M4W</td>\n      <td>Downtown Toronto</td>\n      <td>Rosedale</td>\n    </tr>\n    <tr>\n      <th>240</th>\n      <td>M5W</td>\n      <td>Downtown Toronto</td>\n      <td>Stn A PO Boxes 25 The Esplanade</td>\n    </tr>\n    <tr>\n      <th>243</th>\n      <td>M8W</td>\n      <td>Etobicoke</td>\n      <td>Alderwood, Long Branch</td>\n    </tr>\n    <tr>\n      <th>245</th>\n      <td>M9W</td>\n      <td>Etobicoke</td>\n      <td>Northwest</td>\n    </tr>\n    <tr>\n      <th>246</th>\n      <td>M1X</td>\n      <td>Scarborough</td>\n      <td>Upper Rouge</td>\n    </tr>\n    <tr>\n      <th>249</th>\n      <td>M4X</td>\n      <td>Downtown Toronto</td>\n      <td>Cabbagetown, St. James Town</td>\n    </tr>\n    <tr>\n      <th>251</th>\n      <td>M5X</td>\n      <td>Downtown Toronto</td>\n      <td>First Canadian Place, Underground city</td>\n    </tr>\n    <tr>\n      <th>255</th>\n      <td>M8X</td>\n      <td>Etobicoke</td>\n      <td>The Kingsway, Montgomery Road, Old Mill North</td>\n    </tr>\n    <tr>\n      <th>262</th>\n      <td>M4Y</td>\n      <td>Downtown Toronto</td>\n      <td>Church and Wellesley</td>\n    </tr>\n    <tr>\n      <th>265</th>\n      <td>M7Y</td>\n      <td>East Toronto</td>\n      <td>Business Reply Mail Processing Centre 969 Eastern</td>\n    </tr>\n    <tr>\n      <th>266</th>\n      <td>M8Y</td>\n      <td>Etobicoke</td>\n      <td>Humber Bay, King's Mill Park, Kingsway Park So...</td>\n    </tr>\n    <tr>\n      <th>282</th>\n      <td>M8Z</td>\n      <td>Etobicoke</td>\n      <td>Kingsway Park South West, Mimico NW, The Queen...</td>\n    </tr>\n  </tbody>\n</table>\n<p>103 rows \u00d7 3 columns</p>\n</div>", 
                        "text/plain": "    PostalCode           Borough  \\\n2          M3A        North York   \n3          M4A        North York   \n4          M5A  Downtown Toronto   \n6          M6A        North York   \n8          M7A      Queen's Park   \n10         M9A         Etobicoke   \n11         M1B       Scarborough   \n14         M3B        North York   \n15         M4B         East York   \n17         M5B  Downtown Toronto   \n19         M6B        North York   \n22         M9B         Etobicoke   \n27         M1C       Scarborough   \n31         M3C        North York   \n33         M4C         East York   \n34         M5C  Downtown Toronto   \n35         M6C              York   \n38         M9C         Etobicoke   \n42         M1E       Scarborough   \n47         M4E      East Toronto   \n48         M5E  Downtown Toronto   \n49         M6E              York   \n53         M1G       Scarborough   \n56         M4G         East York   \n57         M5G  Downtown Toronto   \n58         M6G  Downtown Toronto   \n62         M1H       Scarborough   \n63         M2H        North York   \n64         M3H        North York   \n67         M4H         East York   \n..         ...               ...   \n168        M4R   Central Toronto   \n169        M5R   Central Toronto   \n172        M6R      West Toronto   \n174        M7R       Mississauga   \n176        M9R         Etobicoke   \n180        M1S       Scarborough   \n183        M4S   Central Toronto   \n184        M5S  Downtown Toronto   \n186        M6S      West Toronto   \n191        M1T       Scarborough   \n196        M4T   Central Toronto   \n198        M5T  Downtown Toronto   \n205        M1V       Scarborough   \n211        M4V   Central Toronto   \n216        M5V  Downtown Toronto   \n225        M8V         Etobicoke   \n228        M9V         Etobicoke   \n236        M1W       Scarborough   \n239        M4W  Downtown Toronto   \n240        M5W  Downtown Toronto   \n243        M8W         Etobicoke   \n245        M9W         Etobicoke   \n246        M1X       Scarborough   \n249        M4X  Downtown Toronto   \n251        M5X  Downtown Toronto   \n255        M8X         Etobicoke   \n262        M4Y  Downtown Toronto   \n265        M7Y      East Toronto   \n266        M8Y         Etobicoke   \n282        M8Z         Etobicoke   \n\n                                          Neighborhood  \n2                                            Parkwoods  \n3                                     Victoria Village  \n4                            Harbourfront, Regent Park  \n6                     Lawrence Heights, Lawrence Manor  \n8                                         Queen's Park  \n10                                    Islington Avenue  \n11                                      Rouge, Malvern  \n14                                     Don Mills North  \n15                     Woodbine Gardens, Parkview Hill  \n17                            Ryerson, Garden District  \n19                                           Glencairn  \n22   Cloverdale, Islington, Martin Grove, Princess ...  \n27              Highland Creek, Rouge Hill, Port Union  \n31                    Flemingdon Park, Don Mills South  \n33                                    Woodbine Heights  \n34                                      St. James Town  \n35                                  Humewood-Cedarvale  \n38   Bloordale Gardens, Eringate, Markland Wood, Ol...  \n42                   Guildwood, Morningside, West Hill  \n47                                         The Beaches  \n48                                         Berczy Park  \n49                                 Caledonia-Fairbanks  \n53                                              Woburn  \n56                                             Leaside  \n57                                  Central Bay Street  \n58                                            Christie  \n62                                           Cedarbrae  \n63                                   Hillcrest Village  \n64     Bathurst Manor, Downsview North, Wilson Heights  \n67                                    Thorncliffe Park  \n..                                                 ...  \n168                                 North Toronto West  \n169                The Annex, North Midtown, Yorkville  \n172                             Parkdale, Roncesvalles  \n174              Canada Post Gateway Processing Centre  \n176  Kingsview Village, Martin Grove Gardens, Richv...  \n180                                          Agincourt  \n183                                         Davisville  \n184                     Harbord, University of Toronto  \n186                                 Runnymede, Swansea  \n191            Clarks Corners, Sullivan, Tam O'Shanter  \n196                        Moore Park, Summerhill East  \n198          Chinatown, Grange Park, Kensington Market  \n205  Agincourt North, L'Amoreaux East, Milliken, St...  \n211  Deer Park, Forest Hill SE, Rathnelly, South Hi...  \n216  CN Tower, Bathurst Quay, Island airport, Harbo...  \n225       Humber Bay Shores, Mimico South, New Toronto  \n228  Albion Gardens, Beaumond Heights, Humbergate, ...  \n236                                    L'Amoreaux West  \n239                                           Rosedale  \n240                    Stn A PO Boxes 25 The Esplanade  \n243                             Alderwood, Long Branch  \n245                                          Northwest  \n246                                        Upper Rouge  \n249                        Cabbagetown, St. James Town  \n251             First Canadian Place, Underground city  \n255      The Kingsway, Montgomery Road, Old Mill North  \n262                               Church and Wellesley  \n265  Business Reply Mail Processing Centre 969 Eastern  \n266  Humber Bay, King's Mill Park, Kingsway Park So...  \n282  Kingsway Park South West, Mimico NW, The Queen...  \n\n[103 rows x 3 columns]"
                    }, 
                    "output_type": "execute_result"
                }
            ], 
            "source": "print(df.shape)\ndf.drop_duplicates(inplace=True)\nprint(df.shape)\ndf"
        }, 
        {
            "source": "fix the index", 
            "cell_type": "markdown", 
            "metadata": {}
        }, 
        {
            "execution_count": 15, 
            "cell_type": "code", 
            "metadata": {}, 
            "outputs": [
                {
                    "execution_count": 15, 
                    "metadata": {}, 
                    "data": {
                        "text/html": "<div>\n<style scoped>\n    .dataframe tbody tr th:only-of-type {\n        vertical-align: middle;\n    }\n\n    .dataframe tbody tr th {\n        vertical-align: top;\n    }\n\n    .dataframe thead th {\n        text-align: right;\n    }\n</style>\n<table border=\"1\" class=\"dataframe\">\n  <thead>\n    <tr style=\"text-align: right;\">\n      <th></th>\n      <th>PostalCode</th>\n      <th>Borough</th>\n      <th>Neighborhood</th>\n    </tr>\n  </thead>\n  <tbody>\n    <tr>\n      <th>0</th>\n      <td>M3A</td>\n      <td>North York</td>\n      <td>Parkwoods</td>\n    </tr>\n    <tr>\n      <th>1</th>\n      <td>M4A</td>\n      <td>North York</td>\n      <td>Victoria Village</td>\n    </tr>\n    <tr>\n      <th>2</th>\n      <td>M5A</td>\n      <td>Downtown Toronto</td>\n      <td>Harbourfront, Regent Park</td>\n    </tr>\n    <tr>\n      <th>3</th>\n      <td>M6A</td>\n      <td>North York</td>\n      <td>Lawrence Heights, Lawrence Manor</td>\n    </tr>\n    <tr>\n      <th>4</th>\n      <td>M7A</td>\n      <td>Queen's Park</td>\n      <td>Queen's Park</td>\n    </tr>\n    <tr>\n      <th>5</th>\n      <td>M9A</td>\n      <td>Etobicoke</td>\n      <td>Islington Avenue</td>\n    </tr>\n    <tr>\n      <th>6</th>\n      <td>M1B</td>\n      <td>Scarborough</td>\n      <td>Rouge, Malvern</td>\n    </tr>\n    <tr>\n      <th>7</th>\n      <td>M3B</td>\n      <td>North York</td>\n      <td>Don Mills North</td>\n    </tr>\n    <tr>\n      <th>8</th>\n      <td>M4B</td>\n      <td>East York</td>\n      <td>Woodbine Gardens, Parkview Hill</td>\n    </tr>\n    <tr>\n      <th>9</th>\n      <td>M5B</td>\n      <td>Downtown Toronto</td>\n      <td>Ryerson, Garden District</td>\n    </tr>\n    <tr>\n      <th>10</th>\n      <td>M6B</td>\n      <td>North York</td>\n      <td>Glencairn</td>\n    </tr>\n    <tr>\n      <th>11</th>\n      <td>M9B</td>\n      <td>Etobicoke</td>\n      <td>Cloverdale, Islington, Martin Grove, Princess ...</td>\n    </tr>\n    <tr>\n      <th>12</th>\n      <td>M1C</td>\n      <td>Scarborough</td>\n      <td>Highland Creek, Rouge Hill, Port Union</td>\n    </tr>\n    <tr>\n      <th>13</th>\n      <td>M3C</td>\n      <td>North York</td>\n      <td>Flemingdon Park, Don Mills South</td>\n    </tr>\n    <tr>\n      <th>14</th>\n      <td>M4C</td>\n      <td>East York</td>\n      <td>Woodbine Heights</td>\n    </tr>\n    <tr>\n      <th>15</th>\n      <td>M5C</td>\n      <td>Downtown Toronto</td>\n      <td>St. James Town</td>\n    </tr>\n    <tr>\n      <th>16</th>\n      <td>M6C</td>\n      <td>York</td>\n      <td>Humewood-Cedarvale</td>\n    </tr>\n    <tr>\n      <th>17</th>\n      <td>M9C</td>\n      <td>Etobicoke</td>\n      <td>Bloordale Gardens, Eringate, Markland Wood, Ol...</td>\n    </tr>\n    <tr>\n      <th>18</th>\n      <td>M1E</td>\n      <td>Scarborough</td>\n      <td>Guildwood, Morningside, West Hill</td>\n    </tr>\n    <tr>\n      <th>19</th>\n      <td>M4E</td>\n      <td>East Toronto</td>\n      <td>The Beaches</td>\n    </tr>\n    <tr>\n      <th>20</th>\n      <td>M5E</td>\n      <td>Downtown Toronto</td>\n      <td>Berczy Park</td>\n    </tr>\n    <tr>\n      <th>21</th>\n      <td>M6E</td>\n      <td>York</td>\n      <td>Caledonia-Fairbanks</td>\n    </tr>\n    <tr>\n      <th>22</th>\n      <td>M1G</td>\n      <td>Scarborough</td>\n      <td>Woburn</td>\n    </tr>\n    <tr>\n      <th>23</th>\n      <td>M4G</td>\n      <td>East York</td>\n      <td>Leaside</td>\n    </tr>\n    <tr>\n      <th>24</th>\n      <td>M5G</td>\n      <td>Downtown Toronto</td>\n      <td>Central Bay Street</td>\n    </tr>\n    <tr>\n      <th>25</th>\n      <td>M6G</td>\n      <td>Downtown Toronto</td>\n      <td>Christie</td>\n    </tr>\n    <tr>\n      <th>26</th>\n      <td>M1H</td>\n      <td>Scarborough</td>\n      <td>Cedarbrae</td>\n    </tr>\n    <tr>\n      <th>27</th>\n      <td>M2H</td>\n      <td>North York</td>\n      <td>Hillcrest Village</td>\n    </tr>\n    <tr>\n      <th>28</th>\n      <td>M3H</td>\n      <td>North York</td>\n      <td>Bathurst Manor, Downsview North, Wilson Heights</td>\n    </tr>\n    <tr>\n      <th>29</th>\n      <td>M4H</td>\n      <td>East York</td>\n      <td>Thorncliffe Park</td>\n    </tr>\n    <tr>\n      <th>...</th>\n      <td>...</td>\n      <td>...</td>\n      <td>...</td>\n    </tr>\n    <tr>\n      <th>73</th>\n      <td>M4R</td>\n      <td>Central Toronto</td>\n      <td>North Toronto West</td>\n    </tr>\n    <tr>\n      <th>74</th>\n      <td>M5R</td>\n      <td>Central Toronto</td>\n      <td>The Annex, North Midtown, Yorkville</td>\n    </tr>\n    <tr>\n      <th>75</th>\n      <td>M6R</td>\n      <td>West Toronto</td>\n      <td>Parkdale, Roncesvalles</td>\n    </tr>\n    <tr>\n      <th>76</th>\n      <td>M7R</td>\n      <td>Mississauga</td>\n      <td>Canada Post Gateway Processing Centre</td>\n    </tr>\n    <tr>\n      <th>77</th>\n      <td>M9R</td>\n      <td>Etobicoke</td>\n      <td>Kingsview Village, Martin Grove Gardens, Richv...</td>\n    </tr>\n    <tr>\n      <th>78</th>\n      <td>M1S</td>\n      <td>Scarborough</td>\n      <td>Agincourt</td>\n    </tr>\n    <tr>\n      <th>79</th>\n      <td>M4S</td>\n      <td>Central Toronto</td>\n      <td>Davisville</td>\n    </tr>\n    <tr>\n      <th>80</th>\n      <td>M5S</td>\n      <td>Downtown Toronto</td>\n      <td>Harbord, University of Toronto</td>\n    </tr>\n    <tr>\n      <th>81</th>\n      <td>M6S</td>\n      <td>West Toronto</td>\n      <td>Runnymede, Swansea</td>\n    </tr>\n    <tr>\n      <th>82</th>\n      <td>M1T</td>\n      <td>Scarborough</td>\n      <td>Clarks Corners, Sullivan, Tam O'Shanter</td>\n    </tr>\n    <tr>\n      <th>83</th>\n      <td>M4T</td>\n      <td>Central Toronto</td>\n      <td>Moore Park, Summerhill East</td>\n    </tr>\n    <tr>\n      <th>84</th>\n      <td>M5T</td>\n      <td>Downtown Toronto</td>\n      <td>Chinatown, Grange Park, Kensington Market</td>\n    </tr>\n    <tr>\n      <th>85</th>\n      <td>M1V</td>\n      <td>Scarborough</td>\n      <td>Agincourt North, L'Amoreaux East, Milliken, St...</td>\n    </tr>\n    <tr>\n      <th>86</th>\n      <td>M4V</td>\n      <td>Central Toronto</td>\n      <td>Deer Park, Forest Hill SE, Rathnelly, South Hi...</td>\n    </tr>\n    <tr>\n      <th>87</th>\n      <td>M5V</td>\n      <td>Downtown Toronto</td>\n      <td>CN Tower, Bathurst Quay, Island airport, Harbo...</td>\n    </tr>\n    <tr>\n      <th>88</th>\n      <td>M8V</td>\n      <td>Etobicoke</td>\n      <td>Humber Bay Shores, Mimico South, New Toronto</td>\n    </tr>\n    <tr>\n      <th>89</th>\n      <td>M9V</td>\n      <td>Etobicoke</td>\n      <td>Albion Gardens, Beaumond Heights, Humbergate, ...</td>\n    </tr>\n    <tr>\n      <th>90</th>\n      <td>M1W</td>\n      <td>Scarborough</td>\n      <td>L'Amoreaux West</td>\n    </tr>\n    <tr>\n      <th>91</th>\n      <td>M4W</td>\n      <td>Downtown Toronto</td>\n      <td>Rosedale</td>\n    </tr>\n    <tr>\n      <th>92</th>\n      <td>M5W</td>\n      <td>Downtown Toronto</td>\n      <td>Stn A PO Boxes 25 The Esplanade</td>\n    </tr>\n    <tr>\n      <th>93</th>\n      <td>M8W</td>\n      <td>Etobicoke</td>\n      <td>Alderwood, Long Branch</td>\n    </tr>\n    <tr>\n      <th>94</th>\n      <td>M9W</td>\n      <td>Etobicoke</td>\n      <td>Northwest</td>\n    </tr>\n    <tr>\n      <th>95</th>\n      <td>M1X</td>\n      <td>Scarborough</td>\n      <td>Upper Rouge</td>\n    </tr>\n    <tr>\n      <th>96</th>\n      <td>M4X</td>\n      <td>Downtown Toronto</td>\n      <td>Cabbagetown, St. James Town</td>\n    </tr>\n    <tr>\n      <th>97</th>\n      <td>M5X</td>\n      <td>Downtown Toronto</td>\n      <td>First Canadian Place, Underground city</td>\n    </tr>\n    <tr>\n      <th>98</th>\n      <td>M8X</td>\n      <td>Etobicoke</td>\n      <td>The Kingsway, Montgomery Road, Old Mill North</td>\n    </tr>\n    <tr>\n      <th>99</th>\n      <td>M4Y</td>\n      <td>Downtown Toronto</td>\n      <td>Church and Wellesley</td>\n    </tr>\n    <tr>\n      <th>100</th>\n      <td>M7Y</td>\n      <td>East Toronto</td>\n      <td>Business Reply Mail Processing Centre 969 Eastern</td>\n    </tr>\n    <tr>\n      <th>101</th>\n      <td>M8Y</td>\n      <td>Etobicoke</td>\n      <td>Humber Bay, King's Mill Park, Kingsway Park So...</td>\n    </tr>\n    <tr>\n      <th>102</th>\n      <td>M8Z</td>\n      <td>Etobicoke</td>\n      <td>Kingsway Park South West, Mimico NW, The Queen...</td>\n    </tr>\n  </tbody>\n</table>\n<p>103 rows \u00d7 3 columns</p>\n</div>", 
                        "text/plain": "    PostalCode           Borough  \\\n0          M3A        North York   \n1          M4A        North York   \n2          M5A  Downtown Toronto   \n3          M6A        North York   \n4          M7A      Queen's Park   \n5          M9A         Etobicoke   \n6          M1B       Scarborough   \n7          M3B        North York   \n8          M4B         East York   \n9          M5B  Downtown Toronto   \n10         M6B        North York   \n11         M9B         Etobicoke   \n12         M1C       Scarborough   \n13         M3C        North York   \n14         M4C         East York   \n15         M5C  Downtown Toronto   \n16         M6C              York   \n17         M9C         Etobicoke   \n18         M1E       Scarborough   \n19         M4E      East Toronto   \n20         M5E  Downtown Toronto   \n21         M6E              York   \n22         M1G       Scarborough   \n23         M4G         East York   \n24         M5G  Downtown Toronto   \n25         M6G  Downtown Toronto   \n26         M1H       Scarborough   \n27         M2H        North York   \n28         M3H        North York   \n29         M4H         East York   \n..         ...               ...   \n73         M4R   Central Toronto   \n74         M5R   Central Toronto   \n75         M6R      West Toronto   \n76         M7R       Mississauga   \n77         M9R         Etobicoke   \n78         M1S       Scarborough   \n79         M4S   Central Toronto   \n80         M5S  Downtown Toronto   \n81         M6S      West Toronto   \n82         M1T       Scarborough   \n83         M4T   Central Toronto   \n84         M5T  Downtown Toronto   \n85         M1V       Scarborough   \n86         M4V   Central Toronto   \n87         M5V  Downtown Toronto   \n88         M8V         Etobicoke   \n89         M9V         Etobicoke   \n90         M1W       Scarborough   \n91         M4W  Downtown Toronto   \n92         M5W  Downtown Toronto   \n93         M8W         Etobicoke   \n94         M9W         Etobicoke   \n95         M1X       Scarborough   \n96         M4X  Downtown Toronto   \n97         M5X  Downtown Toronto   \n98         M8X         Etobicoke   \n99         M4Y  Downtown Toronto   \n100        M7Y      East Toronto   \n101        M8Y         Etobicoke   \n102        M8Z         Etobicoke   \n\n                                          Neighborhood  \n0                                            Parkwoods  \n1                                     Victoria Village  \n2                            Harbourfront, Regent Park  \n3                     Lawrence Heights, Lawrence Manor  \n4                                         Queen's Park  \n5                                     Islington Avenue  \n6                                       Rouge, Malvern  \n7                                      Don Mills North  \n8                      Woodbine Gardens, Parkview Hill  \n9                             Ryerson, Garden District  \n10                                           Glencairn  \n11   Cloverdale, Islington, Martin Grove, Princess ...  \n12              Highland Creek, Rouge Hill, Port Union  \n13                    Flemingdon Park, Don Mills South  \n14                                    Woodbine Heights  \n15                                      St. James Town  \n16                                  Humewood-Cedarvale  \n17   Bloordale Gardens, Eringate, Markland Wood, Ol...  \n18                   Guildwood, Morningside, West Hill  \n19                                         The Beaches  \n20                                         Berczy Park  \n21                                 Caledonia-Fairbanks  \n22                                              Woburn  \n23                                             Leaside  \n24                                  Central Bay Street  \n25                                            Christie  \n26                                           Cedarbrae  \n27                                   Hillcrest Village  \n28     Bathurst Manor, Downsview North, Wilson Heights  \n29                                    Thorncliffe Park  \n..                                                 ...  \n73                                  North Toronto West  \n74                 The Annex, North Midtown, Yorkville  \n75                              Parkdale, Roncesvalles  \n76               Canada Post Gateway Processing Centre  \n77   Kingsview Village, Martin Grove Gardens, Richv...  \n78                                           Agincourt  \n79                                          Davisville  \n80                      Harbord, University of Toronto  \n81                                  Runnymede, Swansea  \n82             Clarks Corners, Sullivan, Tam O'Shanter  \n83                         Moore Park, Summerhill East  \n84           Chinatown, Grange Park, Kensington Market  \n85   Agincourt North, L'Amoreaux East, Milliken, St...  \n86   Deer Park, Forest Hill SE, Rathnelly, South Hi...  \n87   CN Tower, Bathurst Quay, Island airport, Harbo...  \n88        Humber Bay Shores, Mimico South, New Toronto  \n89   Albion Gardens, Beaumond Heights, Humbergate, ...  \n90                                     L'Amoreaux West  \n91                                            Rosedale  \n92                     Stn A PO Boxes 25 The Esplanade  \n93                              Alderwood, Long Branch  \n94                                           Northwest  \n95                                         Upper Rouge  \n96                         Cabbagetown, St. James Town  \n97              First Canadian Place, Underground city  \n98       The Kingsway, Montgomery Road, Old Mill North  \n99                                Church and Wellesley  \n100  Business Reply Mail Processing Centre 969 Eastern  \n101  Humber Bay, King's Mill Park, Kingsway Park So...  \n102  Kingsway Park South West, Mimico NW, The Queen...  \n\n[103 rows x 3 columns]"
                    }, 
                    "output_type": "execute_result"
                }
            ], 
            "source": "df.reset_index(inplace=True, drop=True)\ndf"
        }, 
        {
            "source": "Last step for part 1 - print the datafram shape", 
            "cell_type": "markdown", 
            "metadata": {}
        }, 
        {
            "execution_count": 16, 
            "cell_type": "code", 
            "metadata": {}, 
            "outputs": [
                {
                    "execution_count": 16, 
                    "metadata": {}, 
                    "data": {
                        "text/plain": "(103, 3)"
                    }, 
                    "output_type": "execute_result"
                }
            ], 
            "source": "df.shape"
        }
    ], 
    "metadata": {
        "kernelspec": {
            "display_name": "Python 3.5", 
            "name": "python3", 
            "language": "python"
        }, 
        "language_info": {
            "mimetype": "text/x-python", 
            "nbconvert_exporter": "python", 
            "version": "3.5.5", 
            "name": "python", 
            "file_extension": ".py", 
            "pygments_lexer": "ipython3", 
            "codemirror_mode": {
                "version": 3, 
                "name": "ipython"
            }
        }
    }, 
    "nbformat": 4
}