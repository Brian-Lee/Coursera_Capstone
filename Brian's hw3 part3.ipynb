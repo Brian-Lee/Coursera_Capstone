{
    "nbformat_minor": 1, 
    "cells": [
        {
            "source": "\n## Brian's Week 3 Homework for Coursera Capstone part 3 ##", 
            "cell_type": "markdown", 
            "metadata": {
                "collapsed": true
            }
        }, 
        {
            "source": "start off by doing everything from Brian's hw3 part2, but don't print as much out", 
            "cell_type": "markdown", 
            "metadata": {}
        }, 
        {
            "source": "scrape the Wikipedia page", 
            "cell_type": "markdown", 
            "metadata": {}
        }, 
        {
            "execution_count": 1, 
            "cell_type": "code", 
            "metadata": {}, 
            "outputs": [], 
            "source": "#scrape table on wikipedia page\nimport requests\nimport lxml.html as lh\nimport pandas as pd\n\nurl='https://en.wikipedia.org/wiki/List_of_postal_codes_of_Canada:_M'\npage = requests.get(url)\ndoc = lh.fromstring(page.content)\ntr_elements = doc.xpath('//tr')\n[len(T) for T in tr_elements[:12]]\n\ntr_elements = doc.xpath('//tr')\n#Create empty list\ncol=[]\ni=0\n#For each row, store each first element (header) and an empty list\nfor t in tr_elements[0]:\n    i+=1\n    name=t.text_content()\n    #print (i,name)\n    col.append((name,[]))"
        }, 
        {
            "execution_count": 2, 
            "cell_type": "code", 
            "metadata": {}, 
            "outputs": [], 
            "source": "#len(tr_elements)"
        }, 
        {
            "execution_count": 3, 
            "cell_type": "code", 
            "metadata": {}, 
            "outputs": [], 
            "source": "\n#print('parsing start')\n#Since out first row is the header, data is stored on the second row onwards\nfor j in range(1,len(tr_elements)):\n   # print('parsing', j)\n    #T is our j'th row\n    T=tr_elements[j]\n    \n    #If row is not of size 10, the //tr data is not from our table \n    if len(T)!=3:\n        break\n    \n    #i is the index of our column\n    i=0\n    \n    #Iterate through each element of the row\n    for t in T.iterchildren():\n        data=t.text_content() \n        data\n        #Check if row is empty\n        if i>0:\n        #Convert any numerical value to integers\n            try:\n                data=int(data)\n            except:\n                pass\n        #Append the data to the empty list of the i'th column\n        col[i][1].append(data)\n        #Increment i for the next column\n        i+=1\n#print('done parsing table')        "
        }, 
        {
            "execution_count": 4, 
            "cell_type": "code", 
            "metadata": {}, 
            "outputs": [
                {
                    "execution_count": 4, 
                    "metadata": {}, 
                    "data": {
                        "text/plain": "[288, 288, 288]"
                    }, 
                    "output_type": "execute_result"
                }
            ], 
            "source": "[len(C) for (title,C) in col]"
        }, 
        {
            "execution_count": 5, 
            "cell_type": "code", 
            "metadata": {}, 
            "outputs": [], 
            "source": "Dict={title:column for (title,column) in col}\ndf=pd.DataFrame(Dict)"
        }, 
        {
            "execution_count": 6, 
            "cell_type": "code", 
            "metadata": {}, 
            "outputs": [], 
            "source": "#df.head()"
        }, 
        {
            "source": "Looks like we have the columns in the wrong order, so let's fix that now", 
            "cell_type": "markdown", 
            "metadata": {}
        }, 
        {
            "execution_count": 7, 
            "cell_type": "code", 
            "metadata": {}, 
            "outputs": [], 
            "source": "#looks like we have the columns in the wrong order, so fix that\n\ndf = df[['Postcode', 'Borough', 'Neighbourhood\\n']]#notice the \\n in the third column - that took me a while to figure out\n#df.head()"
        }, 
        {
            "source": "rename the columns to match the correct project name requirements", 
            "cell_type": "markdown", 
            "metadata": {}
        }, 
        {
            "execution_count": 8, 
            "cell_type": "code", 
            "metadata": {}, 
            "outputs": [], 
            "source": "#rename columns to the project requirements\ndf.rename({'Neighbourhood\\n': 'Neighborhood'}, axis='columns', inplace=True)\ndf.rename({'Postcode': 'PostalCode'}, axis='columns', inplace=True)\n#df.head()"
        }, 
        {
            "source": "Clean up the dataframe", 
            "cell_type": "markdown", 
            "metadata": {}
        }, 
        {
            "execution_count": 9, 
            "cell_type": "code", 
            "metadata": {}, 
            "outputs": [], 
            "source": "#clean up df and keep the old one\ndf_unclean=df\n#df.shape\n#take out the newlines in the data\ndf = df.replace('\\n','', regex=True)\n#lets look at the values we have and see that they make sense\n#print(df['Neighborhood'].unique())\n#print(df['Borough'].unique())\n#print(df['PostalCode'].unique())"
        }, 
        {
            "source": "Get rid of rowns where Borough is not assigned", 
            "cell_type": "markdown", 
            "metadata": {}
        }, 
        {
            "execution_count": 10, 
            "cell_type": "code", 
            "metadata": {}, 
            "outputs": [
                {
                    "output_type": "stream", 
                    "name": "stdout", 
                    "text": "(288, 3)\n"
                }
            ], 
            "source": "# get rid of rows where the Borough is not assigned\nprint(df.shape)\ndf=df[df['Borough']!='Not assigned']\n#print(df.shape)\n#print(df['Borough'].unique())"
        }, 
        {
            "source": "If a neighborhood is not assigned, change it to match the borough name", 
            "cell_type": "markdown", 
            "metadata": {}
        }, 
        {
            "execution_count": 11, 
            "cell_type": "code", 
            "metadata": {}, 
            "outputs": [], 
            "source": "#If a neighborhood is not assigned, change it to be the same as the borough\ndf.Neighborhood.value_counts()['Not assigned'] #how many do we have?\ndf.loc[df.Neighborhood == 'Not assigned', 'Neighborhood'] = df['Borough']\n#df[0:10] #you can see that the Queen's Park neighborhood was assigned"
        }, 
        {
            "execution_count": 12, 
            "cell_type": "code", 
            "metadata": {}, 
            "outputs": [], 
            "source": "all_postalcodes = df.PostalCode.unique()\n#len(all_postalcodes)"
        }, 
        {
            "source": "combine multiple rows for a postalcode - combine the neighborhoods into commas separated lists", 
            "cell_type": "markdown", 
            "metadata": {}
        }, 
        {
            "execution_count": 13, 
            "cell_type": "code", 
            "metadata": {}, 
            "outputs": [], 
            "source": "for postalcode in all_postalcodes:\n    #print('\\n\\npostalcode=', postalcode, '\\n')\n    neighborhoods_to_combine = df[df['PostalCode']==postalcode].Neighborhood.unique()\n    number_of_neighborhoods_to_combine = neighborhoods_to_combine.size\n    neighborhoods_to_combine_csv_str = ', '.join(map(str, neighborhoods_to_combine))\n                                      \n    #print(number_of_neighborhoods_to_combine, ' - ', neighborhoods_to_combine_csv_str)\n    #rows = df[df['PostalCode']==postalcode]\n    #rows.Neighborhood=neighborhoods_to_combine_csv_str\n    df.loc[df.PostalCode == postalcode, 'Neighborhood'] = neighborhoods_to_combine_csv_str\n    \n    #print(rows)\n    #new_df.append(rows)"
        }, 
        {
            "source": "\nCombined the neighborhoods by postalcode, but didn't get rid of duplicate rows generated yet - let's get rid of duplicates now", 
            "cell_type": "markdown", 
            "metadata": {}
        }, 
        {
            "execution_count": 14, 
            "cell_type": "code", 
            "metadata": {}, 
            "outputs": [
                {
                    "output_type": "stream", 
                    "name": "stdout", 
                    "text": "(211, 3)\n(103, 3)\n"
                }
            ], 
            "source": "print(df.shape)\ndf.drop_duplicates(inplace=True)\nprint(df.shape)\n#df"
        }, 
        {
            "source": "fix the index", 
            "cell_type": "markdown", 
            "metadata": {}
        }, 
        {
            "execution_count": 15, 
            "cell_type": "code", 
            "metadata": {}, 
            "outputs": [], 
            "source": "df.reset_index(inplace=True, drop=True)\n#df"
        }, 
        {
            "source": "Last step for part 1 - print the datafram shape", 
            "cell_type": "markdown", 
            "metadata": {}
        }, 
        {
            "execution_count": 16, 
            "cell_type": "code", 
            "metadata": {}, 
            "outputs": [
                {
                    "execution_count": 16, 
                    "metadata": {}, 
                    "data": {
                        "text/plain": "(103, 3)"
                    }, 
                    "output_type": "execute_result"
                }
            ], 
            "source": "df.shape"
        }, 
        {
            "source": "done with Brian's hw3 part 1", 
            "cell_type": "markdown", 
            "metadata": {}
        }, 
        {
            "source": "## start the new stuff for Brian's hw3 part2 ##", 
            "cell_type": "markdown", 
            "metadata": {}
        }, 
        {
            "source": "\nAdd latitude and longitude", 
            "cell_type": "markdown", 
            "metadata": {}
        }, 
        {
            "execution_count": 17, 
            "cell_type": "code", 
            "metadata": {}, 
            "outputs": [], 
            "source": "#add column headers for latitude and longitude\nheader_list = ['PostalCode','Borough','Neighborhood','Latitude','Longitude']\ndf = df.reindex(columns = header_list)"
        }, 
        {
            "source": "The geocoder package never gave me results - it is too unreliable so I am commenting it", 
            "cell_type": "markdown", 
            "metadata": {}
        }, 
        {
            "execution_count": 18, 
            "cell_type": "code", 
            "metadata": {}, 
            "outputs": [
                {
                    "execution_count": 18, 
                    "metadata": {}, 
                    "data": {
                        "text/plain": "\"\\n!conda install -c conda-forge geocoder -y\\nimport geocoder # import geocoder\\n\\nfor postal_code in all_postalcodes:\\n    # initialize your variable to None\\n    lat_lng_coords = None\\n    print('\\n',postal_code)\\n    # loop until you get the coordinates\\n    count=0\\n    while(lat_lng_coords is None):\\n      g = geocoder.google('{}, Toronto, Ontario'.format(postal_code))\\n      lat_lng_coords = g.latlng\\n      print('.',count,'.',postal_code,'.',g.latlng,'.')\\n      count=count+1\\n        \\n    latitude = lat_lng_coords[0]\\n    longitude = lat_lng_coords[1]\\n    print('\\n',latitude,' ', longitude,'\\n')\\n    df.loc[df.PostalCode == postalcode, 'Latitude','Longitude'] = latitude,longitude\\n\""
                    }, 
                    "output_type": "execute_result"
                }
            ], 
            "source": "#I implemented the geocoder latitude and longitude,but it never returned results\n'''\n!conda install -c conda-forge geocoder -y\nimport geocoder # import geocoder\n\nfor postal_code in all_postalcodes:\n    # initialize your variable to None\n    lat_lng_coords = None\n    print('\\n',postal_code)\n    # loop until you get the coordinates\n    count=0\n    while(lat_lng_coords is None):\n      g = geocoder.google('{}, Toronto, Ontario'.format(postal_code))\n      lat_lng_coords = g.latlng\n      print('.',count,'.',postal_code,'.',g.latlng,'.')\n      count=count+1\n        \n    latitude = lat_lng_coords[0]\n    longitude = lat_lng_coords[1]\n    print('\\n',latitude,' ', longitude,'\\n')\n    df.loc[df.PostalCode == postalcode, 'Latitude','Longitude'] = latitude,longitude\n'''"
        }, 
        {
            "source": "Get the latitudes and longitudes from the csv file since geocoder didn't work", 
            "cell_type": "markdown", 
            "metadata": {}
        }, 
        {
            "execution_count": 19, 
            "cell_type": "code", 
            "metadata": {}, 
            "outputs": [], 
            "source": "lat_long_data = pd.read_csv('https://cocl.us/Geospatial_data')\nlat_long_data.head()\nfor i in range(lat_long_data.Latitude.count()):\n    lat = lat_long_data.iloc[i]['Latitude']\n    lon = lat_long_data.iloc[i]['Longitude']\n    pc = lat_long_data.iloc[i]['Postal Code']\n    #print('\\n',pc,'-',lat,'-',lon,'\\n')\n    df.loc[df.PostalCode == pc, 'Latitude'] = lat\n    df.loc[df.PostalCode == pc, 'Longitude'] = lon"
        }, 
        {
            "execution_count": 20, 
            "cell_type": "code", 
            "metadata": {}, 
            "outputs": [
                {
                    "execution_count": 20, 
                    "metadata": {}, 
                    "data": {
                        "text/html": "<div>\n<style scoped>\n    .dataframe tbody tr th:only-of-type {\n        vertical-align: middle;\n    }\n\n    .dataframe tbody tr th {\n        vertical-align: top;\n    }\n\n    .dataframe thead th {\n        text-align: right;\n    }\n</style>\n<table border=\"1\" class=\"dataframe\">\n  <thead>\n    <tr style=\"text-align: right;\">\n      <th></th>\n      <th>PostalCode</th>\n      <th>Borough</th>\n      <th>Neighborhood</th>\n      <th>Latitude</th>\n      <th>Longitude</th>\n    </tr>\n  </thead>\n  <tbody>\n    <tr>\n      <th>0</th>\n      <td>M3A</td>\n      <td>North York</td>\n      <td>Parkwoods</td>\n      <td>43.753259</td>\n      <td>-79.329656</td>\n    </tr>\n    <tr>\n      <th>1</th>\n      <td>M4A</td>\n      <td>North York</td>\n      <td>Victoria Village</td>\n      <td>43.725882</td>\n      <td>-79.315572</td>\n    </tr>\n    <tr>\n      <th>2</th>\n      <td>M5A</td>\n      <td>Downtown Toronto</td>\n      <td>Harbourfront, Regent Park</td>\n      <td>43.654260</td>\n      <td>-79.360636</td>\n    </tr>\n    <tr>\n      <th>3</th>\n      <td>M6A</td>\n      <td>North York</td>\n      <td>Lawrence Heights, Lawrence Manor</td>\n      <td>43.718518</td>\n      <td>-79.464763</td>\n    </tr>\n    <tr>\n      <th>4</th>\n      <td>M7A</td>\n      <td>Queen's Park</td>\n      <td>Queen's Park</td>\n      <td>43.662301</td>\n      <td>-79.389494</td>\n    </tr>\n  </tbody>\n</table>\n</div>", 
                        "text/plain": "  PostalCode           Borough                      Neighborhood   Latitude  \\\n0        M3A        North York                         Parkwoods  43.753259   \n1        M4A        North York                  Victoria Village  43.725882   \n2        M5A  Downtown Toronto         Harbourfront, Regent Park  43.654260   \n3        M6A        North York  Lawrence Heights, Lawrence Manor  43.718518   \n4        M7A      Queen's Park                      Queen's Park  43.662301   \n\n   Longitude  \n0 -79.329656  \n1 -79.315572  \n2 -79.360636  \n3 -79.464763  \n4 -79.389494  "
                    }, 
                    "output_type": "execute_result"
                }
            ], 
            "source": "#does it look right?\ndf.head()"
        }, 
        {
            "source": "show the dataframe with the latitude and the longitude", 
            "cell_type": "markdown", 
            "metadata": {}
        }, 
        {
            "execution_count": 21, 
            "cell_type": "code", 
            "metadata": {}, 
            "outputs": [], 
            "source": "#df"
        }, 
        {
            "source": "## start Brian's hw3 part3 ##", 
            "cell_type": "markdown", 
            "metadata": {}
        }, 
        {
            "execution_count": 22, 
            "cell_type": "code", 
            "metadata": {}, 
            "outputs": [
                {
                    "output_type": "stream", 
                    "name": "stdout", 
                    "text": "Solving environment: done\n\n# All requested packages already installed.\n\n"
                }
            ], 
            "source": "#imports\n!conda install -c conda-forge folium=0.5.0 --yes # uncomment this line if you haven't completed the Foursquare API lab\nimport folium # map rendering library"
        }, 
        {
            "source": "I googled the initial latitude and longitude of Toronto", 
            "cell_type": "markdown", 
            "metadata": {}
        }, 
        {
            "execution_count": 23, 
            "cell_type": "code", 
            "metadata": {}, 
            "outputs": [
                {
                    "output_type": "stream", 
                    "name": "stdout", 
                    "text": "Libraries imported.\n"
                }, 
                {
                    "ename": "NameError", 
                    "evalue": "name 'map_newyork' is not defined", 
                    "traceback": [
                        "\u001b[0;31m---------------------------------------------------------------------------\u001b[0m", 
                        "\u001b[0;31mNameError\u001b[0m                                 Traceback (most recent call last)", 
                        "\u001b[0;32m<ipython-input-23-e1665c32e5c2>\u001b[0m in \u001b[0;36m<module>\u001b[0;34m()\u001b[0m\n\u001b[1;32m     21\u001b[0m         \u001b[0mfill_color\u001b[0m\u001b[0;34m=\u001b[0m\u001b[0;34m'#3186cc'\u001b[0m\u001b[0;34m,\u001b[0m\u001b[0;34m\u001b[0m\u001b[0m\n\u001b[1;32m     22\u001b[0m         \u001b[0mfill_opacity\u001b[0m\u001b[0;34m=\u001b[0m\u001b[0;36m0.7\u001b[0m\u001b[0;34m,\u001b[0m\u001b[0;34m\u001b[0m\u001b[0m\n\u001b[0;32m---> 23\u001b[0;31m         parse_html=False).add_to(map_newyork)  \n\u001b[0m\u001b[1;32m     24\u001b[0m \u001b[0;34m\u001b[0m\u001b[0m\n\u001b[1;32m     25\u001b[0m \u001b[0mmap_toronto\u001b[0m\u001b[0;34m\u001b[0m\u001b[0m\n", 
                        "\u001b[0;31mNameError\u001b[0m: name 'map_newyork' is not defined"
                    ], 
                    "output_type": "error"
                }
            ], 
            "source": "print('Libraries imported.')\n\n# create map of Toronto using latitude and longitude values\ntoronto_lat = 43.6532\ntoronto_lon = -79.3832\nmap_toronto = folium.Map(location=[toronto_lat, toronto_lon], zoom_start=11)\n\nneighborhoods = df\n# add markers to map\n\n#for lat, lng, borough, neighborhood in zip(neighborhoods['Latitude'], neighborhoods['Longitude'], neighborhoods['Borough'], neighborhoods['Neighborhood']):\nfor lat, lng, borough, neighborhood in zip(neighborhoods['Latitude'], neighborhoods['Longitude'], neighborhoods['Borough'], neighborhoods['Neighborhood']):\n    label = '{}, {}'.format(neighborhood, borough)\n    label = folium.Popup(label, parse_html=True)\n    folium.CircleMarker(\n        [lat, lng],\n        radius=5,\n        popup=label,\n        color='blue',\n        fill=True,\n        fill_color='#3186cc',\n        fill_opacity=0.7,\n        parse_html=False).add_to(map_newyork)  \n    \nmap_toronto"
        }
    ], 
    "metadata": {
        "kernelspec": {
            "display_name": "Python 3.5", 
            "name": "python3", 
            "language": "python"
        }, 
        "language_info": {
            "mimetype": "text/x-python", 
            "nbconvert_exporter": "python", 
            "version": "3.5.5", 
            "name": "python", 
            "file_extension": ".py", 
            "pygments_lexer": "ipython3", 
            "codemirror_mode": {
                "version": 3, 
                "name": "ipython"
            }
        }
    }, 
    "nbformat": 4
}